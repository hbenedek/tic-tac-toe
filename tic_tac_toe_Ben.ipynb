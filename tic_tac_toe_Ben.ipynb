{
 "cells": [
  {
   "cell_type": "code",
   "execution_count": 1,
   "metadata": {},
   "outputs": [],
   "source": [
    "import numpy as np\n",
    "from tic_env import TictactoeEnv, OptimalPlayer\n",
    "from tqdm import tqdm\n",
    "from collections import defaultdict\n",
    "import random\n",
    "import matplotlib.pyplot as plt\n"
   ]
  },
  {
   "cell_type": "markdown",
   "metadata": {},
   "source": [
    "A move is represented as an integer like that"
   ]
  },
  {
   "cell_type": "markdown",
   "metadata": {},
   "source": [
    "0 | 1 | 2  \\\n",
    "--+---+--  \\\n",
    "3 | 4 | 5  \\\n",
    "--+---+--  \\\n",
    "6 | 7 | 8"
   ]
  },
  {
   "cell_type": "code",
   "execution_count": 20,
   "metadata": {},
   "outputs": [],
   "source": [
    "def tuple_to_int(action):\n",
    "    return action[0] * 3 + action[1]\n",
    "\n",
    "def int_to_tuple(position):\n",
    "    return (int(position/3), position % 3)"
   ]
  },
  {
   "cell_type": "markdown",
   "metadata": {},
   "source": [
    "I think we should make a Player class similar to OptimalPlayer. Basically we modify the 'act' function for different learning algorithms.\n",
    "It should look something like that below"
   ]
  },
  {
   "cell_type": "markdown",
   "metadata": {},
   "source": [
    "A couple of observations:\n",
    " - In order to perform a Q-learning step, we need a future state action pair, but we have an opponent, so we cannot just look into future states, we need to consider the move of our opponent. One way to do it is to assume that our opponent is part of the environment and simulate its move as a 'random move' and consider directly the state after (that is reasonable to me so that's what I implemented). \n",
    " - An other option is to directly use its optimal move strategy, it might result in better training but it feels like cheating: in real life you don't have access to your opponents 'best move'. Does this makes sense?\n",
    " - A third option is to first play a move, wait for the opponent to make his move and then update the q-values at the end. Maybe this is the most logical\n",
    "\n",
    " - My other problem wast that if we consider state-action pairs the number of q-values are getting out of hands quickly we have 3^9 states and possibly at most 9 action for each state. The state graph is also reproducing in a sense that you can reach the same board position from different configurations. If we just consider so called 'after states' we could reduce the number of parameters. I tried this approach with my functions actV and updateV, but this is not necessarily-learning anymore (rather TD(0))\n",
    "\n",
    " "
   ]
  },
  {
   "cell_type": "markdown",
   "metadata": {},
   "source": [
    "The code is really messy sorry for that, I hate using notebooks but i didn't want to modify the env file so i just copied everything here i needed"
   ]
  },
  {
   "cell_type": "code",
   "execution_count": 64,
   "metadata": {},
   "outputs": [],
   "source": [
    "class QPlayer:\n",
    "    def __init__(self, epsilon=0.2, alpha=0.05, gamma=0.99, player='X'):\n",
    "        self.epsilon = epsilon\n",
    "        self.player = player # 'x' or 'O'\n",
    "        self.alpha = alpha\n",
    "        self.gamma = gamma\n",
    "        # 3^9 states 9 length vectors are keys and 9 length list of values represents actions \n",
    "        self.Qvalues = defaultdict(lambda: [0 for _ in range(9)]) \n",
    "        self.Vvalues = defaultdict(int)\n",
    "        self.current_action = None\n",
    "        self.opponent = {'X', 'O'} - set(self.player)\n",
    "        self.player2value = {'X': 1, 'O': -1}\n",
    "\n",
    "    def get_opponent(self):\n",
    "        return list({'X', 'O'} - set(self.player))[0]\n",
    "\n",
    "    def empty(self, grid):\n",
    "        '''return all empty positions'''\n",
    "        avail = []\n",
    "        for i in range(9):\n",
    "            pos = (int(i/3), i % 3)\n",
    "            if grid[pos] == 0:\n",
    "                avail.append(pos)\n",
    "        return avail\n",
    "\n",
    "    def randomMove(self, grid):\n",
    "        \"\"\" Chose a random move from the available options. \"\"\"\n",
    "        avail = self.empty(grid)\n",
    "        return avail[random.randint(0, len(avail)-1)]\n",
    "\n",
    "    def act(self, grid):\n",
    "        # epsilon greedy policy\n",
    "        if random.random() < self.epsilon:\n",
    "            action = self.randomMove(grid)\n",
    "        else:\n",
    "            idx = np.argmax([self.Qvalues[str(grid)][tuple_to_int(pos)] for pos in self.empty(grid)])\n",
    "            action = self.empty(grid)[idx]\n",
    "        self.current_action = tuple_to_int(action)    \n",
    "        return action\n",
    "\n",
    "    def actV(self, grid):\n",
    "        # epsilon greedy policy\n",
    "        if random.random() < self.epsilon:\n",
    "            return self.randomMove(grid)\n",
    "        else:\n",
    "            future_states = []\n",
    "            for pos in self.empty(grid):\n",
    "                current = grid.copy()\n",
    "                current[pos] = self.player2value[self.player]\n",
    "                future_states.append(current)\n",
    "\n",
    "        idx = np.argmax([self.Vvalues[str(state)] for state in future_states])\n",
    "        self.current_action = self.empty(grid)[idx]   \n",
    "        return self.current_action\n",
    "\n",
    "    def updateQ(self, grid, end):\n",
    "        if (end == True):\n",
    "            reward = 1\n",
    "            off_policy = 0\n",
    "        else:\n",
    "            reward = 0\n",
    "            # simulate random opponent move\n",
    "            opponent_action = self.randomMove(grid)\n",
    "            grid[opponent_action] = self.player2value[self.get_opponent()]\n",
    "            if np.count_nonzero(grid) == 9:\n",
    "                off_policy = 0\n",
    "            else:\n",
    "                off_policy = max([self.Qvalues[str(grid)][tuple_to_int(pos)] for pos in self.empty(grid)])\n",
    "        q = self.Qvalues[str(grid)][self.current_action] \n",
    "        self.Qvalues[str(grid)][self.current_action] = q + self.alpha * (reward + self.gamma * off_policy - q)\n",
    "\n",
    "    def updateV(self,grid, end):\n",
    "        if (end == True):\n",
    "            reward = 1\n",
    "            off_policy = 0\n",
    "        else:\n",
    "            reward = 0\n",
    "            # simulate random opponent move\n",
    "            opponent_action = self.randomMove(grid)\n",
    "            grid[opponent_action] = self.player2value[self.get_opponent()]\n",
    "            if np.count_nonzero(grid) == 9:\n",
    "                off_policy = 0\n",
    "            else:\n",
    "                future_states = []\n",
    "                for pos in self.empty(grid):\n",
    "                    current = grid.copy()\n",
    "                    current[pos] = self.player2value[self.player]\n",
    "                    future_states.append(current)\n",
    "\n",
    "                off_policy = max([self.Vvalues[str(state)] for state in future_states])\n",
    "        v = self.Vvalues[str(grid)] \n",
    "        self.Vvalues[str(grid)] =  v + self.alpha * (reward + self.gamma * off_policy - v)\n",
    "\n",
    "            \n"
   ]
  },
  {
   "cell_type": "markdown",
   "metadata": {},
   "source": [
    "Helper function to evaluate games:"
   ]
  },
  {
   "cell_type": "markdown",
   "metadata": {},
   "source": [
    "Our agent is agent1 and we are playing against agent2 (chosen to be random or optimal). The outer loop corresponds to the number of games, before each game we reset the environment and flip the player order. Whenever it is our turn we choose an action accoring to epsilon greedy strategy (see function act() and actV()) and then update the corresponding values (updateQ() or updateV()). Feel free to experiment with Q or V value calculations."
   ]
  },
  {
   "cell_type": "code",
   "execution_count": 49,
   "metadata": {},
   "outputs": [],
   "source": [
    "def simulate(agent1, agent2, N=500):\n",
    "    env = TictactoeEnv()\n",
    "    N_win = 0\n",
    "    N_loose = 0\n",
    "    history = []\n",
    "    turns = np.array(['X','O'])\n",
    "    flip = np.array([1,0])\n",
    "    for i in tqdm(range(N)):\n",
    "        # initialize env and players\n",
    "        env.reset()\n",
    "        grid, _, __ = env.observe()\n",
    "\n",
    "        turns = turns[flip]\n",
    "        agent1.player = turns[0]\n",
    "        agent1.opponent = turns[1]\n",
    "        agent2.player = turns[1]\n",
    "\n",
    "        # simulation\n",
    "        for j in range(9):\n",
    "            if env.current_player == agent1.player:\n",
    "                move = agent1.actV(grid)\n",
    "                #move = agent1.act(grid)\n",
    "                grid, end, winner = env.step(move, print_grid=False)\n",
    "                agent1.updateV(grid.copy(), end)\n",
    "                #agent1.update(grid.copy(), end)\n",
    "            else:\n",
    "                move = agent2.act(grid)\n",
    "                grid, end, winner = env.step(move, print_grid=False)\n",
    "\n",
    "            if end:\n",
    "                # store results\n",
    "                if winner == agent1.player:\n",
    "                    N_win += 1\n",
    "                    history.append(1)\n",
    "                elif winner == agent2.player:\n",
    "                    N_loose += 1\n",
    "                    history.append(-1)\n",
    "                else:\n",
    "                    history.append(0)\n",
    "                break\n",
    "    return history, (N_win - N_loose) / N\n",
    "            \n"
   ]
  },
  {
   "cell_type": "markdown",
   "metadata": {},
   "source": [
    "Example run against half random agent. With terrible results"
   ]
  },
  {
   "cell_type": "code",
   "execution_count": 65,
   "metadata": {},
   "outputs": [
    {
     "name": "stderr",
     "output_type": "stream",
     "text": [
      "100%|██████████| 20000/20000 [02:58<00:00, 112.19it/s]"
     ]
    },
    {
     "name": "stdout",
     "output_type": "stream",
     "text": [
      "-0.1827\n"
     ]
    },
    {
     "name": "stderr",
     "output_type": "stream",
     "text": [
      "\n"
     ]
    },
    {
     "data": {
      "text/plain": [
       "[<matplotlib.lines.Line2D at 0x7f98f5a832b0>]"
      ]
     },
     "execution_count": 65,
     "metadata": {},
     "output_type": "execute_result"
    },
    {
     "data": {
      "image/png": "[encoded data removed]",
      "text/plain": [
       "<Figure size 432x288 with 1 Axes>"
      ]
     },
     "metadata": {
      "needs_background": "light"
     },
     "output_type": "display_data"
    }
   ],
   "source": [
    "agent1 = QPlayer(epsilon=0.1)\n",
    "agent2 = OptimalPlayer(epsilon=0.5)\n",
    "history, metric = simulate(agent1, agent2, N=20000)\n",
    "results = np.mean(np.array(history).reshape(80,250), axis=1)\n",
    "print(metric)\n",
    "plt.plot(results)"
   ]
  },
  {
   "cell_type": "markdown",
   "metadata": {},
   "source": [
    "Example run against the random agent. It feels like it kind of learns and achieves a not-too-bad score"
   ]
  },
  {
   "cell_type": "code",
   "execution_count": 66,
   "metadata": {},
   "outputs": [
    {
     "name": "stderr",
     "output_type": "stream",
     "text": [
      "100%|██████████| 20000/20000 [02:30<00:00, 133.20it/s]"
     ]
    },
    {
     "name": "stdout",
     "output_type": "stream",
     "text": [
      "0.38625\n"
     ]
    },
    {
     "name": "stderr",
     "output_type": "stream",
     "text": [
      "\n"
     ]
    },
    {
     "data": {
      "text/plain": [
       "[<matplotlib.lines.Line2D at 0x7f98f59a2790>]"
      ]
     },
     "execution_count": 66,
     "metadata": {},
     "output_type": "execute_result"
    },
    {
     "data": {
      "image/png": "[encoded data removed]",
      "text/plain": [
       "<Figure size 432x288 with 1 Axes>"
      ]
     },
     "metadata": {
      "needs_background": "light"
     },
     "output_type": "display_data"
    }
   ],
   "source": [
    "agent1 = QPlayer(epsilon=0.1)\n",
    "agent2 = OptimalPlayer(epsilon=1)\n",
    "history, metric = simulate(agent1, agent2, N=20000)\n",
    "results = np.mean(np.array(history).reshape(80,250), axis=1)\n",
    "print(metric)\n",
    "plt.plot(results)"
   ]
  },
  {
   "cell_type": "code",
   "execution_count": null,
   "metadata": {},
   "outputs": [],
   "source": []
  }
 ],
 "metadata": {
  "interpreter": {
   "hash": "26ae4a984a6f84a48b202f07c72d67bd30a680dd0c5c3486fe7bb779885aa33f"
  },
  "kernelspec": {
   "display_name": "ANN_env_2022",
   "language": "python",
   "name": "python3"
  },
  "language_info": {
   "codemirror_mode": {
    "name": "ipython",
    "version": 3
   },
   "file_extension": ".py",
   "mimetype": "text/x-python",
   "name": "python",
   "nbconvert_exporter": "python",
   "pygments_lexer": "ipython3",
   "version": "3.8.12"
  }
 },
 "nbformat": 4,
 "nbformat_minor": 4
}
